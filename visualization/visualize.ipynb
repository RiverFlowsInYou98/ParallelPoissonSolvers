{
 "cells": [
  {
   "cell_type": "code",
   "execution_count": 1,
   "metadata": {},
   "outputs": [
    {
     "name": "stderr",
     "output_type": "stream",
     "text": [
      "\u001b[32m\u001b[1m  Activating\u001b[22m\u001b[39m project at `~/JuliaEnvs/numerics`\n"
     ]
    }
   ],
   "source": [
    "using Pkg\n",
    "Pkg.activate(homedir() * \"/JuliaEnvs/numerics\")\n",
    "using CSV, DataFrames, Plots, LaTeXStrings, Measures\n"
   ]
  },
  {
   "cell_type": "code",
   "execution_count": 2,
   "metadata": {},
   "outputs": [],
   "source": [
    "sol1_df = DataFrame(CSV.File(\"solution1.csv\"))\n",
    "exact_sol1_df = DataFrame(CSV.File(\"exact_solution1.csv\"))\n",
    "\n",
    "sol2_df = DataFrame(CSV.File(\"solution2.csv\"))\n",
    "exact_sol2_df = DataFrame(CSV.File(\"exact_solution2.csv\"));\n"
   ]
  },
  {
   "cell_type": "code",
   "execution_count": 3,
   "metadata": {},
   "outputs": [
    {
     "data": {
      "text/plain": [
       "\"/oscar/home/sliu167/APMA2822B/Final/visualization/solution1.png\""
      ]
     },
     "metadata": {},
     "output_type": "display_data"
    }
   ],
   "source": [
    "x = unique(sol1_df.x)\n",
    "y = unique(sol1_df.y)\n",
    "z_sol1 = reshape(sol1_df.value, length(y), length(x))\n",
    "z_exact1 = reshape(exact_sol1_df.value, length(y), length(x))\n",
    "\n",
    "step = 10\n",
    "p = wireframe(x[1:step:end], y[1:step:end], z_sol1[1:step:end, 1:step:end],\n",
    "    overdraw=true, transparent=true, color=:black, linewidth=0.5,\n",
    "    camera=(30, 30), label=\"Numerical solution\", guidefont=font(10, \"Computer Modern\"), legend=true)\n",
    "surface!(p, x, y, z_exact1, xlabel=\"x\", ylabel=\"y\", zlabel=\"value\", color=:RdBu, colorbar=:false, alpha=0.8, label=\"Exact solution\")\n",
    "xlabel!(p, L\"x\")\n",
    "ylabel!(p, L\"y\")\n",
    "zlabel!(p, L\"u(x,y)\")\n",
    "plot!(p, margin=0mm)\n",
    "savefig(p, \"solution1.png\")\n",
    "\n"
   ]
  },
  {
   "cell_type": "code",
   "execution_count": 6,
   "metadata": {},
   "outputs": [
    {
     "data": {
      "text/plain": [
       "\"/oscar/home/sliu167/APMA2822B/Final/visualization/solution2.png\""
      ]
     },
     "metadata": {},
     "output_type": "display_data"
    }
   ],
   "source": [
    "x = unique(sol2_df.x)\n",
    "y = unique(sol2_df.y)\n",
    "z_sol2 = reshape(sol2_df.value, length(y), length(x))\n",
    "z_exact2 = reshape(exact_sol2_df.value, length(y), length(x))\n",
    "\n",
    "p = wireframe(x[1:step:end], y[1:step:end], z_sol2[1:step:end, 1:step:end],\n",
    "    overdraw=true, transparent=true, color=:black, linewidth=0.5,\n",
    "    camera=(30, 30), label=\"Numerical solution\", guidefont=font(10, \"Computer Modern\"), legend=true)\n",
    "surface!(p, x, y, z_exact2, xlabel=\"x\", ylabel=\"y\", zlabel=\"value\", color=:RdBu, colorbar=:false, alpha=0.8, label=\"Exact solution\")\n",
    "xlabel!(p, L\"x\")\n",
    "ylabel!(p, L\"y\")\n",
    "zlabel!(p, L\"u(x,y)\")\n",
    "plot!(p, margin=0mm)\n",
    "savefig(p, \"solution2.png\")"
   ]
  },
  {
   "cell_type": "code",
   "execution_count": 5,
   "metadata": {},
   "outputs": [],
   "source": []
  }
 ],
 "metadata": {
  "kernelspec": {
   "display_name": "Julia 1.8.2",
   "language": "julia",
   "name": "julia-1.8"
  },
  "language_info": {
   "file_extension": ".jl",
   "mimetype": "application/julia",
   "name": "julia",
   "version": "1.8.2"
  }
 },
 "nbformat": 4,
 "nbformat_minor": 2
}
